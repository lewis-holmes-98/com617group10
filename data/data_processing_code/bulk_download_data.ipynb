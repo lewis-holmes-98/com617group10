{
 "cells": [
  {
   "cell_type": "markdown",
   "id": "56584948",
   "metadata": {},
   "source": [
    "## Bulk downloading data\n",
    "\n",
    "Data is bulk-downloaded using the free trial of the World Weather Online API. This API is limited to 500 requests daily, and only returns a maximum of 34 days of consecutive data at a time. Requests must therefore be constructed carefully to maximise the efficient access of data.\n",
    "\n",
    "Returned data is parsed to JSON outfiles."
   ]
  },
  {
   "cell_type": "code",
   "execution_count": 1,
   "id": "db9c61b9",
   "metadata": {},
   "outputs": [],
   "source": [
    "import pandas as pd\n",
    "import functions as fnc"
   ]
  },
  {
   "cell_type": "code",
   "execution_count": 128,
   "id": "90d84841",
   "metadata": {},
   "outputs": [],
   "source": [
    "with open(\"api_key.txt\") as f:\n",
    "    api_key = f.read()"
   ]
  },
  {
   "cell_type": "code",
   "execution_count": 106,
   "id": "43273745",
   "metadata": {},
   "outputs": [
    {
     "data": {
      "text/plain": [
       "['brides_les_bains',\n",
       " 'courchevel',\n",
       " 'les_menuires',\n",
       " 'meribel',\n",
       " 'orelle',\n",
       " 'saint_martin',\n",
       " 'val_thorens']"
      ]
     },
     "execution_count": 106,
     "metadata": {},
     "output_type": "execute_result"
    }
   ],
   "source": [
    "fnc.list_resort_names()"
   ]
  },
  {
   "cell_type": "markdown",
   "id": "56d61259",
   "metadata": {},
   "source": [
    "### Val Thorens"
   ]
  },
  {
   "cell_type": "code",
   "execution_count": 81,
   "id": "096a7efd",
   "metadata": {},
   "outputs": [
    {
     "name": "stdout",
     "output_type": "stream",
     "text": [
      "Definitely run this? Y to proceed\n",
      "Y\n",
      "count of requests:\t 20\n"
     ]
    }
   ],
   "source": [
    "val_thorens = fnc.get_historical_data(\"Val%20Thorens\",api_key,request_counter_start=0)"
   ]
  },
  {
   "cell_type": "code",
   "execution_count": 98,
   "id": "2624dcc5",
   "metadata": {},
   "outputs": [],
   "source": [
    "with open(\"../data/val_thorens/fulldata.json\", \"w\") as outfile:\n",
    "        json.dump(val_thorens, outfile, indent=4)"
   ]
  },
  {
   "cell_type": "markdown",
   "id": "9cc736fe",
   "metadata": {},
   "source": [
    "### Courchevel"
   ]
  },
  {
   "cell_type": "code",
   "execution_count": 103,
   "id": "889f253c",
   "metadata": {},
   "outputs": [
    {
     "name": "stdout",
     "output_type": "stream",
     "text": [
      "Definitely run this? Y to proceed\n",
      "Y\n",
      "count of requests:\t 91\n"
     ]
    }
   ],
   "source": [
    "courchevel = fnc.get_historical_data(\"Courchevel\",api_key,request_counter_start=60)"
   ]
  },
  {
   "cell_type": "code",
   "execution_count": 104,
   "id": "92fcecfa",
   "metadata": {},
   "outputs": [],
   "source": [
    "with open(\"../data/courchevel/fulldata.json\", \"w\") as outfile:\n",
    "        json.dump(courchevel, outfile, indent=4)"
   ]
  },
  {
   "cell_type": "markdown",
   "id": "57df7eaa",
   "metadata": {},
   "source": [
    "### Brides-les-bains"
   ]
  },
  {
   "cell_type": "code",
   "execution_count": 107,
   "id": "e561b62b",
   "metadata": {},
   "outputs": [
    {
     "name": "stdout",
     "output_type": "stream",
     "text": [
      "Definitely run this? Y to proceed\n",
      "Y\n",
      "count of requests:\t 131\n"
     ]
    }
   ],
   "source": [
    "brides = fnc.get_historical_data(\"Brides-les-bains\",api_key,request_counter_start=100)\n"
   ]
  },
  {
   "cell_type": "code",
   "execution_count": 111,
   "id": "080517d8",
   "metadata": {},
   "outputs": [],
   "source": [
    "with open(\"../data/brides_les_bains/fulldata.json\", \"w\") as outfile:\n",
    "        json.dump(brides, outfile, indent=4)"
   ]
  },
  {
   "cell_type": "markdown",
   "id": "c944b9f5",
   "metadata": {},
   "source": [
    "### Les Menuires"
   ]
  },
  {
   "cell_type": "code",
   "execution_count": 113,
   "id": "16eb94df",
   "metadata": {},
   "outputs": [
    {
     "name": "stdout",
     "output_type": "stream",
     "text": [
      "Definitely run this? Y to proceed\n",
      "Y\n",
      "count of requests:\t 171\n"
     ]
    }
   ],
   "source": [
    "les_menuires = fnc.get_historical_data(\"45.323879, 6.537519\",api_key,request_counter_start=140)"
   ]
  },
  {
   "cell_type": "code",
   "execution_count": 115,
   "id": "6b81e92a",
   "metadata": {},
   "outputs": [],
   "source": [
    "with open(\"../data/les_menuires/fulldata.json\", \"w\") as outfile:\n",
    "        json.dump(les_menuires, outfile, indent=4)"
   ]
  },
  {
   "cell_type": "markdown",
   "id": "1754ce0d",
   "metadata": {},
   "source": [
    "### Meribel"
   ]
  },
  {
   "cell_type": "code",
   "execution_count": 116,
   "id": "390cc73a",
   "metadata": {},
   "outputs": [
    {
     "name": "stdout",
     "output_type": "stream",
     "text": [
      "Definitely run this? Y to proceed\n",
      "Y\n",
      "count of requests:\t 211\n"
     ]
    }
   ],
   "source": [
    "meribel = fnc.get_historical_data(\"Meribel\",api_key,request_counter_start=180)"
   ]
  },
  {
   "cell_type": "code",
   "execution_count": 117,
   "id": "bc4b8e6d",
   "metadata": {},
   "outputs": [],
   "source": [
    "with open(\"../data/meribel/fulldata.json\", \"w\") as outfile:\n",
    "        json.dump(meribel, outfile, indent=4)"
   ]
  },
  {
   "cell_type": "markdown",
   "id": "23cd8fcc",
   "metadata": {},
   "source": [
    "### Orelle"
   ]
  },
  {
   "cell_type": "code",
   "execution_count": 119,
   "id": "1b18067c",
   "metadata": {},
   "outputs": [
    {
     "name": "stdout",
     "output_type": "stream",
     "text": [
      "Definitely run this? Y to proceed\n",
      "Y\n",
      "count of requests:\t 251\n"
     ]
    }
   ],
   "source": [
    "orelle = fnc.get_historical_data(\"Orelle\",api_key,request_counter_start=220)"
   ]
  },
  {
   "cell_type": "code",
   "execution_count": 122,
   "id": "c2f32b1f",
   "metadata": {},
   "outputs": [],
   "source": [
    "with open(\"../data/orelle/fulldata.json\", \"w\") as outfile:\n",
    "        json.dump(orelle, outfile, indent=4)"
   ]
  },
  {
   "cell_type": "markdown",
   "id": "1c19c951",
   "metadata": {},
   "source": [
    "### Saint Martin"
   ]
  },
  {
   "cell_type": "code",
   "execution_count": 123,
   "id": "d4b98d9a",
   "metadata": {},
   "outputs": [
    {
     "name": "stdout",
     "output_type": "stream",
     "text": [
      "Definitely run this? Y to proceed\n",
      "Y\n",
      "count of requests:\t 291\n"
     ]
    }
   ],
   "source": [
    "saint_martin = fnc.get_historical_data(\"Saint-Martin-de-Belleville\",api_key,request_counter_start=260)"
   ]
  },
  {
   "cell_type": "code",
   "execution_count": 126,
   "id": "20bb0a39",
   "metadata": {},
   "outputs": [],
   "source": [
    "with open(\"../data/saint_martin/fulldata.json\", \"w\") as outfile:\n",
    "        json.dump(saint_martin, outfile, indent=4)"
   ]
  }
 ],
 "metadata": {
  "kernelspec": {
   "display_name": "bamboo",
   "language": "python",
   "name": "bamboo"
  },
  "language_info": {
   "codemirror_mode": {
    "name": "ipython",
    "version": 3
   },
   "file_extension": ".py",
   "mimetype": "text/x-python",
   "name": "python",
   "nbconvert_exporter": "python",
   "pygments_lexer": "ipython3",
   "version": "3.9.4"
  }
 },
 "nbformat": 4,
 "nbformat_minor": 5
}
